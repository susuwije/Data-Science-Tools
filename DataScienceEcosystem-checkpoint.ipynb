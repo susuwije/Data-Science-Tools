{
 "cells": [
  {
   "cell_type": "markdown",
   "id": "f8292e2b-70f9-48a8-ad12-1c8c52de0abe",
   "metadata": {},
   "source": [
    "# DataScienceEcosystem"
   ]
  },
  {
   "cell_type": "markdown",
   "id": "9ad5ef79-dee4-468f-afb6-aa59a06a6514",
   "metadata": {},
   "source": [
    "In this notebook, Data Science Tools and Ecosystems are summarized."
   ]
  },
  {
   "cell_type": "markdown",
   "id": "203b2962-5bac-4a4e-aecb-70b1c707cbc6",
   "metadata": {},
   "source": [
    "Some of the popular languages that Data Scientists use are: \n",
    "1. Python\n",
    "2. R\n",
    "3. SQL"
   ]
  },
  {
   "cell_type": "markdown",
   "id": "f068adfd-967a-4ee1-b25c-d511e4e8b498",
   "metadata": {},
   "source": [
    "Some of the commonly used libraries by Data Scientists include: \n",
    "1. Pandas\n",
    "2. Matplotlib\n",
    "3. Sckit-learn"
   ]
  },
  {
   "cell_type": "markdown",
   "id": "a5b6bf09-cf78-4213-9289-33454a2eba88",
   "metadata": {},
   "source": [
    "|Data Science Tools|\n",
    "--------------------\n",
    "|R Studio|\n",
    "|Spyder|\n",
    "|Anaconda Navigator|"
   ]
  },
  {
   "cell_type": "markdown",
   "id": "417239ab-59e9-4250-851d-2e2d0d69105c",
   "metadata": {},
   "source": [
    "### Below are a few examples of evaluating arithmatic expressions in Python"
   ]
  },
  {
   "cell_type": "code",
   "execution_count": 1,
   "id": "9f01e27a-7083-4750-a1c6-42ea57a85efe",
   "metadata": {},
   "outputs": [
    {
     "data": {
      "text/plain": [
       "17"
      ]
     },
     "execution_count": 1,
     "metadata": {},
     "output_type": "execute_result"
    }
   ],
   "source": [
    "#This a simple arithmatic expression to multiply then add integers\n",
    "(3*4)+5"
   ]
  },
  {
   "cell_type": "code",
   "execution_count": 2,
   "id": "2e1bd42f-076a-4876-913f-a47b5455e407",
   "metadata": {},
   "outputs": [
    {
     "data": {
      "text/plain": [
       "3.3333333333333335"
      ]
     },
     "execution_count": 2,
     "metadata": {},
     "output_type": "execute_result"
    }
   ],
   "source": [
    "#This will convert 200 minutes to hours by diving by 60\n",
    "200/60"
   ]
  },
  {
   "cell_type": "markdown",
   "id": "93313b56-cf5a-4f95-ae74-3fd5e5ae596e",
   "metadata": {},
   "source": [
    "# **Objectives:**\n",
    "- List popular languages for Data Science\n",
    "- List commonly used libraries by Data Scientists\n",
    "- List development environment open source tools used in data science\n",
    "- Evaluating arithmetic expressions in Python"
   ]
  },
  {
   "cell_type": "markdown",
   "id": "1a54c506-6a42-4a51-9325-066ab60944d4",
   "metadata": {},
   "source": [
    "## Author\n",
    "Surani Wijenayaka"
   ]
  },
  {
   "cell_type": "code",
   "execution_count": null,
   "id": "022e4ab9-8854-4836-8373-8f3200db2afe",
   "metadata": {},
   "outputs": [],
   "source": []
  },
  {
   "cell_type": "code",
   "execution_count": null,
   "id": "bd35482e-b116-4a06-9791-fd88bff19e39",
   "metadata": {},
   "outputs": [],
   "source": []
  },
  {
   "cell_type": "code",
   "execution_count": null,
   "id": "32a9949b-edc2-4f0b-b548-a666886dc19c",
   "metadata": {},
   "outputs": [],
   "source": []
  },
  {
   "cell_type": "code",
   "execution_count": null,
   "id": "4e0d80c2-4e44-4546-87b8-317ad9a06a79",
   "metadata": {},
   "outputs": [],
   "source": []
  },
  {
   "cell_type": "code",
   "execution_count": null,
   "id": "d75b791a-eb24-4bc7-8bc2-ec9b9047f531",
   "metadata": {},
   "outputs": [],
   "source": []
  },
  {
   "cell_type": "code",
   "execution_count": null,
   "id": "cce48c06-ee0a-4c0d-8667-44103cd36c57",
   "metadata": {},
   "outputs": [],
   "source": []
  },
  {
   "cell_type": "code",
   "execution_count": null,
   "id": "6ecff710-d1a3-48b9-84f6-4f8b9a41a178",
   "metadata": {},
   "outputs": [],
   "source": []
  },
  {
   "cell_type": "code",
   "execution_count": null,
   "id": "4a2e9c29-06bb-4c8f-8246-afdc199445d4",
   "metadata": {},
   "outputs": [],
   "source": []
  },
  {
   "cell_type": "code",
   "execution_count": null,
   "id": "2be35d58-9313-445d-878d-24389f3beca6",
   "metadata": {},
   "outputs": [],
   "source": []
  },
  {
   "cell_type": "code",
   "execution_count": null,
   "id": "3b0f98df-9e9c-416f-b5a5-85e8b2954b76",
   "metadata": {},
   "outputs": [],
   "source": []
  },
  {
   "cell_type": "code",
   "execution_count": null,
   "id": "84627e32-4d76-4c5f-8f94-35dc10484df2",
   "metadata": {},
   "outputs": [],
   "source": []
  },
  {
   "cell_type": "code",
   "execution_count": null,
   "id": "30bed653-fe29-4672-b14c-567e611e54bf",
   "metadata": {},
   "outputs": [],
   "source": []
  },
  {
   "cell_type": "code",
   "execution_count": null,
   "id": "f067e984-d3ff-4173-9d9c-1df9a6d280e0",
   "metadata": {},
   "outputs": [],
   "source": []
  },
  {
   "cell_type": "markdown",
   "id": "f3f94e74-e2c1-4d92-b017-73f7f425216e",
   "metadata": {},
   "source": []
  }
 ],
 "metadata": {
  "kernelspec": {
   "display_name": "Python 3 (ipykernel)",
   "language": "python",
   "name": "python3"
  },
  "language_info": {
   "codemirror_mode": {
    "name": "ipython",
    "version": 3
   },
   "file_extension": ".py",
   "mimetype": "text/x-python",
   "name": "python",
   "nbconvert_exporter": "python",
   "pygments_lexer": "ipython3",
   "version": "3.11.7"
  }
 },
 "nbformat": 4,
 "nbformat_minor": 5
}
